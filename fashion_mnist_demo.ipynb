{
  "nbformat": 4,
  "nbformat_minor": 0,
  "metadata": {
    "colab": {
      "name": "fashion-mnist-demo.ipynb",
      "provenance": [],
      "collapsed_sections": [],
      "authorship_tag": "ABX9TyNKHrrw8gOv92ZqEBbRkYkW",
      "include_colab_link": true
    },
    "kernelspec": {
      "name": "python3",
      "display_name": "Python 3"
    },
    "accelerator": "GPU"
  },
  "cells": [
    {
      "cell_type": "markdown",
      "metadata": {
        "id": "view-in-github",
        "colab_type": "text"
      },
      "source": [
        "<a href=\"https://colab.research.google.com/github/PujaRc/Demo_DL/blob/master/fashion_mnist_demo.ipynb\" target=\"_parent\"><img src=\"https://colab.research.google.com/assets/colab-badge.svg\" alt=\"Open In Colab\"/></a>"
      ]
    },
    {
      "cell_type": "code",
      "metadata": {
        "id": "Joq1G8Qm_78N",
        "colab_type": "code",
        "colab": {
          "base_uri": "https://localhost:8080/",
          "height": 238
        },
        "outputId": "063fd097-3ad1-45d8-917a-de6ec6bef898"
      },
      "source": [
        "!pip install wandb -q"
      ],
      "execution_count": 25,
      "outputs": [
        {
          "output_type": "stream",
          "text": [
            "\u001b[K     |████████████████████████████████| 1.4MB 8.8MB/s \n",
            "\u001b[K     |████████████████████████████████| 460kB 29.3MB/s \n",
            "\u001b[K     |████████████████████████████████| 102kB 14.8MB/s \n",
            "\u001b[K     |████████████████████████████████| 102kB 15.5MB/s \n",
            "\u001b[K     |████████████████████████████████| 102kB 14.1MB/s \n",
            "\u001b[K     |████████████████████████████████| 71kB 13.4MB/s \n",
            "\u001b[K     |████████████████████████████████| 71kB 7.1MB/s \n",
            "\u001b[?25h  Building wheel for shortuuid (setup.py) ... \u001b[?25l\u001b[?25hdone\n",
            "  Building wheel for gql (setup.py) ... \u001b[?25l\u001b[?25hdone\n",
            "  Building wheel for watchdog (setup.py) ... \u001b[?25l\u001b[?25hdone\n",
            "  Building wheel for subprocess32 (setup.py) ... \u001b[?25l\u001b[?25hdone\n",
            "  Building wheel for graphql-core (setup.py) ... \u001b[?25l\u001b[?25hdone\n",
            "  Building wheel for pathtools (setup.py) ... \u001b[?25l\u001b[?25hdone\n"
          ],
          "name": "stdout"
        }
      ]
    },
    {
      "cell_type": "code",
      "metadata": {
        "id": "DXPjutoYASoH",
        "colab_type": "code",
        "colab": {
          "base_uri": "https://localhost:8080/",
          "height": 51
        },
        "outputId": "c23256ce-538c-4599-dac8-2e83f4eaec3f"
      },
      "source": [
        "!wandb login 06b3ae8f0a24309addfef923c7c7332548078970"
      ],
      "execution_count": 26,
      "outputs": [
        {
          "output_type": "stream",
          "text": [
            "\u001b[34m\u001b[1mwandb\u001b[0m: Appending key for api.wandb.ai to your netrc file: /root/.netrc\n",
            "\u001b[32mSuccessfully logged in to Weights & Biases!\u001b[0m\n"
          ],
          "name": "stdout"
        }
      ]
    },
    {
      "cell_type": "code",
      "metadata": {
        "id": "B9Cfsca9uVr8",
        "colab_type": "code",
        "colab": {
          "base_uri": "https://localhost:8080/",
          "height": 34
        },
        "outputId": "3fb2e946-5c19-43d6-b57c-210e10054d97"
      },
      "source": [
        "%tensorflow_version 2.x\n",
        "import tensorflow as tf\n",
        "import numpy as np\n",
        "import matplotlib.pyplot as plt\n",
        "from tensorflow import keras\n",
        "\n",
        "import wandb\n",
        "from wandb.keras import WandbCallback\n",
        "\n",
        "print(tf.__version__)"
      ],
      "execution_count": 27,
      "outputs": [
        {
          "output_type": "stream",
          "text": [
            "2.1.0\n"
          ],
          "name": "stdout"
        }
      ]
    },
    {
      "cell_type": "markdown",
      "metadata": {
        "id": "I6Bb7KjX1tfs",
        "colab_type": "text"
      },
      "source": [
        "# Load the data"
      ]
    },
    {
      "cell_type": "code",
      "metadata": {
        "id": "vJ3Rx56v1ggp",
        "colab_type": "code",
        "colab": {}
      },
      "source": [
        "(train_images,train_labels),(test_images,test_labels) = keras.datasets.fashion_mnist.load_data()"
      ],
      "execution_count": 0,
      "outputs": []
    },
    {
      "cell_type": "code",
      "metadata": {
        "id": "NQHCPQS56k8D",
        "colab_type": "code",
        "colab": {}
      },
      "source": [
        "train_images = train_images/255.0\n",
        "test_images =  test_images/255.0"
      ],
      "execution_count": 0,
      "outputs": []
    },
    {
      "cell_type": "code",
      "metadata": {
        "id": "tolI2RQP2A2T",
        "colab_type": "code",
        "colab": {}
      },
      "source": [
        "%matplotlib inline"
      ],
      "execution_count": 0,
      "outputs": []
    },
    {
      "cell_type": "code",
      "metadata": {
        "id": "VFt4Ntbx2Qmr",
        "colab_type": "code",
        "colab": {
          "base_uri": "https://localhost:8080/",
          "height": 265
        },
        "outputId": "9dbc2a84-6dbd-43b3-d679-58b3fba23071"
      },
      "source": [
        "plt.imshow(train_images[0],cmap='gray')\n",
        "plt.show()"
      ],
      "execution_count": 31,
      "outputs": [
        {
          "output_type": "display_data",
          "data": {
            "image/png": "[encoded data removed]",
            "text/plain": [
              "<Figure size 432x288 with 1 Axes>"
            ]
          },
          "metadata": {
            "tags": []
          }
        }
      ]
    },
    {
      "cell_type": "code",
      "metadata": {
        "id": "EQnaBMg32Xv5",
        "colab_type": "code",
        "colab": {
          "base_uri": "https://localhost:8080/",
          "height": 68
        },
        "outputId": "fbdad1da-c17b-4571-d98d-742167b781fa"
      },
      "source": [
        "wandb.init(project=\"demo-project\")\n",
        "keras.backend.clear_session()\n",
        "model = keras.models.Sequential()\n",
        "model.add(keras.layers.Flatten())\n",
        "model.add(keras.layers.Dense(784,activation='relu'))\n",
        "model.add(keras.layers.Dense(512,activation='relu'))\n",
        "model.add(keras.layers.Dense(10,activation='softmax'))"
      ],
      "execution_count": 72,
      "outputs": [
        {
          "output_type": "display_data",
          "data": {
            "text/html": [
              "\n",
              "                Logging results to <a href=\"https://wandb.com\" target=\"_blank\">Weights & Biases</a> <a href=\"https://docs.wandb.com/integrations/jupyter.html\" target=\"_blank\">(Documentation)</a>.<br/>\n",
              "                Project page: <a href=\"https://app.wandb.ai/pujarc/demo-project\" target=\"_blank\">https://app.wandb.ai/pujarc/demo-project</a><br/>\n",
              "                Run page: <a href=\"https://app.wandb.ai/pujarc/demo-project/runs/k3nv25o1\" target=\"_blank\">https://app.wandb.ai/pujarc/demo-project/runs/k3nv25o1</a><br/>\n",
              "            "
            ],
            "text/plain": [
              "<IPython.core.display.HTML object>"
            ]
          },
          "metadata": {
            "tags": []
          }
        }
      ]
    },
    {
      "cell_type": "code",
      "metadata": {
        "id": "HibQVNTQ9z-7",
        "colab_type": "code",
        "colab": {}
      },
      "source": [
        "model.compile(optimizer=keras.optimizers.Adamax(),loss=keras.losses.sparse_categorical_crossentropy,metrics=['accuracy'])"
      ],
      "execution_count": 0,
      "outputs": []
    },
    {
      "cell_type": "code",
      "metadata": {
        "id": "xv4RcD3i_JpR",
        "colab_type": "code",
        "colab": {
          "base_uri": "https://localhost:8080/",
          "height": 785
        },
        "outputId": "af2e1d3b-008b-49be-d7ba-8f795f9976f4"
      },
      "source": [
        "model.fit(train_images,train_labels,epochs=20,callbacks=[WandbCallback()])\n",
        "# model.fit(train_images,train_labels,epochs=10)"
      ],
      "execution_count": 74,
      "outputs": [
        {
          "output_type": "stream",
          "text": [
            "Train on 60000 samples\n",
            "Epoch 1/20\n",
            "WARNING:tensorflow:Method (on_train_batch_end) is slow compared to the batch update (0.426609). Check your callbacks.\n",
            "   32/60000 [..............................] - ETA: 20:14 - loss: 2.3671 - accuracy: 0.0000e+00WARNING:tensorflow:Method (on_train_batch_end) is slow compared to the batch update (0.213315). Check your callbacks.\n",
            "60000/60000 [==============================] - 5s 83us/sample - loss: 0.4631 - accuracy: 0.8349\n",
            "Epoch 2/20\n",
            "60000/60000 [==============================] - 4s 71us/sample - loss: 0.3467 - accuracy: 0.8730\n",
            "Epoch 3/20\n",
            "60000/60000 [==============================] - 4s 74us/sample - loss: 0.3091 - accuracy: 0.8862\n",
            "Epoch 4/20\n",
            "60000/60000 [==============================] - 4s 69us/sample - loss: 0.2837 - accuracy: 0.8939\n",
            "Epoch 5/20\n",
            "60000/60000 [==============================] - 4s 73us/sample - loss: 0.2658 - accuracy: 0.9011\n",
            "Epoch 6/20\n",
            "60000/60000 [==============================] - 4s 69us/sample - loss: 0.2500 - accuracy: 0.9060\n",
            "Epoch 7/20\n",
            "60000/60000 [==============================] - 4s 70us/sample - loss: 0.2334 - accuracy: 0.9136\n",
            "Epoch 8/20\n",
            "60000/60000 [==============================] - 4s 71us/sample - loss: 0.2215 - accuracy: 0.9163\n",
            "Epoch 9/20\n",
            "60000/60000 [==============================] - 4s 68us/sample - loss: 0.2104 - accuracy: 0.9204\n",
            "Epoch 10/20\n",
            "60000/60000 [==============================] - 4s 69us/sample - loss: 0.1998 - accuracy: 0.9241\n",
            "Epoch 11/20\n",
            "60000/60000 [==============================] - 4s 69us/sample - loss: 0.1895 - accuracy: 0.9288\n",
            "Epoch 12/20\n",
            "60000/60000 [==============================] - 4s 70us/sample - loss: 0.1792 - accuracy: 0.9323\n",
            "Epoch 13/20\n",
            "60000/60000 [==============================] - 4s 73us/sample - loss: 0.1704 - accuracy: 0.9356\n",
            "Epoch 14/20\n",
            "60000/60000 [==============================] - 4s 69us/sample - loss: 0.1631 - accuracy: 0.9385\n",
            "Epoch 15/20\n",
            "60000/60000 [==============================] - 4s 71us/sample - loss: 0.1541 - accuracy: 0.9423\n",
            "Epoch 16/20\n",
            "60000/60000 [==============================] - 4s 69us/sample - loss: 0.1485 - accuracy: 0.9444\n",
            "Epoch 17/20\n",
            "60000/60000 [==============================] - 5s 76us/sample - loss: 0.1400 - accuracy: 0.9471\n",
            "Epoch 18/20\n",
            "60000/60000 [==============================] - 4s 70us/sample - loss: 0.1337 - accuracy: 0.9482\n",
            "Epoch 19/20\n",
            "60000/60000 [==============================] - 4s 70us/sample - loss: 0.1291 - accuracy: 0.9511\n",
            "Epoch 20/20\n",
            "60000/60000 [==============================] - 4s 74us/sample - loss: 0.1226 - accuracy: 0.9541\n"
          ],
          "name": "stdout"
        },
        {
          "output_type": "execute_result",
          "data": {
            "text/plain": [
              "<tensorflow.python.keras.callbacks.History at 0x7f3de0cbd0b8>"
            ]
          },
          "metadata": {
            "tags": []
          },
          "execution_count": 74
        }
      ]
    },
    {
      "cell_type": "code",
      "metadata": {
        "id": "a6uMO0jK_bx3",
        "colab_type": "code",
        "colab": {
          "base_uri": "https://localhost:8080/",
          "height": 51
        },
        "outputId": "dd423cb8-d019-4a4f-9116-d6548c4f6296"
      },
      "source": [
        "model.evaluate(test_images,test_labels)"
      ],
      "execution_count": 75,
      "outputs": [
        {
          "output_type": "stream",
          "text": [
            "10000/10000 [==============================] - 1s 65us/sample - loss: 0.3564 - accuracy: 0.9003\n"
          ],
          "name": "stdout"
        },
        {
          "output_type": "execute_result",
          "data": {
            "text/plain": [
              "[0.3563854782834649, 0.9003]"
            ]
          },
          "metadata": {
            "tags": []
          },
          "execution_count": 75
        }
      ]
    },
    {
      "cell_type": "code",
      "metadata": {
        "id": "YNvMWBThDjn3",
        "colab_type": "code",
        "colab": {}
      },
      "source": [
        ""
      ],
      "execution_count": 0,
      "outputs": []
    }
  ]
}