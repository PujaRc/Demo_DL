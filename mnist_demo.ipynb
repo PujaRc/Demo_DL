{
  "nbformat": 4,
  "nbformat_minor": 0,
  "metadata": {
    "colab": {
      "name": "mnist_demo.ipynb",
      "provenance": [],
      "authorship_tag": "ABX9TyNkIpp7+xMhPLFAxyXzda8E",
      "include_colab_link": true
    },
    "kernelspec": {
      "name": "python3",
      "display_name": "Python 3"
    }
  },
  "cells": [
    {
      "cell_type": "markdown",
      "metadata": {
        "id": "view-in-github",
        "colab_type": "text"
      },
      "source": [
        "<a href=\"https://colab.research.google.com/github/PujaRc/Demo_DL/blob/master/mnist_demo.ipynb\" target=\"_parent\"><img src=\"https://colab.research.google.com/assets/colab-badge.svg\" alt=\"Open In Colab\"/></a>"
      ]
    },
    {
      "cell_type": "code",
      "metadata": {
        "id": "l-uYMkK-PXTS",
        "colab_type": "code",
        "outputId": "7d36100f-4d83-4774-8d95-10dda9443797",
        "colab": {
          "base_uri": "https://localhost:8080/",
          "height": 243
        }
      },
      "source": [
        "!pip install wandb -q"
      ],
      "execution_count": 1,
      "outputs": [
        {
          "output_type": "stream",
          "text": [
            "\u001b[K     |████████████████████████████████| 1.4MB 2.9MB/s \n",
            "\u001b[K     |████████████████████████████████| 102kB 10.2MB/s \n",
            "\u001b[K     |████████████████████████████████| 460kB 52.1MB/s \n",
            "\u001b[K     |████████████████████████████████| 102kB 12.3MB/s \n",
            "\u001b[K     |████████████████████████████████| 102kB 12.3MB/s \n",
            "\u001b[K     |████████████████████████████████| 71kB 9.1MB/s \n",
            "\u001b[K     |████████████████████████████████| 71kB 8.8MB/s \n",
            "\u001b[?25h  Building wheel for shortuuid (setup.py) ... \u001b[?25l\u001b[?25hdone\n",
            "  Building wheel for subprocess32 (setup.py) ... \u001b[?25l\u001b[?25hdone\n",
            "  Building wheel for watchdog (setup.py) ... \u001b[?25l\u001b[?25hdone\n",
            "  Building wheel for gql (setup.py) ... \u001b[?25l\u001b[?25hdone\n",
            "  Building wheel for pathtools (setup.py) ... \u001b[?25l\u001b[?25hdone\n",
            "  Building wheel for graphql-core (setup.py) ... \u001b[?25l\u001b[?25hdone\n"
          ],
          "name": "stdout"
        }
      ]
    },
    {
      "cell_type": "code",
      "metadata": {
        "id": "WPxstAJJQEY0",
        "colab_type": "code",
        "outputId": "034f16f0-22fa-4988-b5e1-fb01d31bdc44",
        "colab": {
          "base_uri": "https://localhost:8080/",
          "height": 52
        }
      },
      "source": [
        "!wandb login 06b3ae8f0a24309addfef923c7c7332548078970"
      ],
      "execution_count": 2,
      "outputs": [
        {
          "output_type": "stream",
          "text": [
            "\u001b[34m\u001b[1mwandb\u001b[0m: Appending key for api.wandb.ai to your netrc file: /root/.netrc\n",
            "\u001b[32mSuccessfully logged in to Weights & Biases!\u001b[0m\n"
          ],
          "name": "stdout"
        }
      ]
    },
    {
      "cell_type": "code",
      "metadata": {
        "id": "fT8d_8jdQKQy",
        "colab_type": "code",
        "outputId": "05df2790-61ec-435b-fb33-64e73385c63a",
        "colab": {
          "base_uri": "https://localhost:8080/",
          "height": 52
        }
      },
      "source": [
        "%tensorflow_version 2.x\n",
        "import tensorflow as tf\n",
        "import numpy as np\n",
        "import matplotlib.pyplot as plt\n",
        "from tensorflow import keras\n",
        "\n",
        "import wandb\n",
        "from wandb.keras import WandbCallback\n",
        "\n",
        "print(tf.__version__)"
      ],
      "execution_count": 3,
      "outputs": [
        {
          "output_type": "stream",
          "text": [
            "TensorFlow 2.x selected.\n",
            "2.1.0\n"
          ],
          "name": "stdout"
        }
      ]
    },
    {
      "cell_type": "markdown",
      "metadata": {
        "id": "qExSWXgUQXbh",
        "colab_type": "text"
      },
      "source": [
        "# **DATA LOADING**\n"
      ]
    },
    {
      "cell_type": "code",
      "metadata": {
        "id": "v7HjjR1wQhZz",
        "colab_type": "code",
        "outputId": "8620c40f-449b-4279-ef98-5e351fdd6a88",
        "colab": {
          "base_uri": "https://localhost:8080/",
          "height": 52
        }
      },
      "source": [
        "(train_images,train_labels),(test_images,test_labels) = keras.datasets.mnist.load_data()"
      ],
      "execution_count": 4,
      "outputs": [
        {
          "output_type": "stream",
          "text": [
            "Downloading data from https://storage.googleapis.com/tensorflow/tf-keras-datasets/mnist.npz\n",
            "11493376/11490434 [==============================] - 0s 0us/step\n"
          ],
          "name": "stdout"
        }
      ]
    },
    {
      "cell_type": "code",
      "metadata": {
        "id": "b72zWP3DQxG3",
        "colab_type": "code",
        "colab": {}
      },
      "source": [
        "train_images = train_images/255.0\n",
        "test_images =  test_images/255.0"
      ],
      "execution_count": 0,
      "outputs": []
    },
    {
      "cell_type": "code",
      "metadata": {
        "id": "vNvjrQQdRA0P",
        "colab_type": "code",
        "colab": {}
      },
      "source": [
        "%matplotlib inline"
      ],
      "execution_count": 0,
      "outputs": []
    },
    {
      "cell_type": "code",
      "metadata": {
        "id": "2SPFMdHMRFy_",
        "colab_type": "code",
        "outputId": "c2a75e5c-c61f-4558-a9ee-6000b0aa7c30",
        "colab": {
          "base_uri": "https://localhost:8080/",
          "height": 265
        }
      },
      "source": [
        "plt.imshow(train_images[1],cmap='gray')\n",
        "plt.show()"
      ],
      "execution_count": 7,
      "outputs": [
        {
          "output_type": "display_data",
          "data": {
            "image/png": "[encoded data removed]",
            "text/plain": [
              "<Figure size 432x288 with 1 Axes>"
            ]
          },
          "metadata": {
            "tags": []
          }
        }
      ]
    },
    {
      "cell_type": "code",
      "metadata": {
        "id": "1W5Xc__ZRLBd",
        "colab_type": "code",
        "outputId": "d1271cf1-7800-4954-9e86-cb3226dc1ab0",
        "colab": {
          "base_uri": "https://localhost:8080/",
          "height": 69
        }
      },
      "source": [
        "wandb.init(project=\"new-demo-project\")\n",
        "keras.backend.clear_session()\n",
        "model = keras.models.Sequential()\n",
        "model.add(keras.layers.Flatten())\n",
        "model.add(keras.layers.Dense(784,activation='relu'))\n",
        "model.add(keras.layers.Dense(484,activation='relu'))\n",
        "model.add(keras.layers.Dense(10,activation='softmax'))"
      ],
      "execution_count": 21,
      "outputs": [
        {
          "output_type": "display_data",
          "data": {
            "text/html": [
              "\n",
              "                Logging results to <a href=\"https://wandb.com\" target=\"_blank\">Weights & Biases</a> <a href=\"https://docs.wandb.com/integrations/jupyter.html\" target=\"_blank\">(Documentation)</a>.<br/>\n",
              "                Project page: <a href=\"https://app.wandb.ai/pujarc/new-demo-project\" target=\"_blank\">https://app.wandb.ai/pujarc/new-demo-project</a><br/>\n",
              "                Run page: <a href=\"https://app.wandb.ai/pujarc/new-demo-project/runs/ck2xnt8t\" target=\"_blank\">https://app.wandb.ai/pujarc/new-demo-project/runs/ck2xnt8t</a><br/>\n",
              "            "
            ],
            "text/plain": [
              "<IPython.core.display.HTML object>"
            ]
          },
          "metadata": {
            "tags": []
          }
        }
      ]
    },
    {
      "cell_type": "code",
      "metadata": {
        "id": "bGmbvobYRYHc",
        "colab_type": "code",
        "colab": {}
      },
      "source": [
        "model.compile(optimizer=keras.optimizers.SGD(),loss=keras.losses.sparse_categorical_crossentropy,metrics=['accuracy'])"
      ],
      "execution_count": 0,
      "outputs": []
    },
    {
      "cell_type": "code",
      "metadata": {
        "id": "OJG6orqSRgKd",
        "colab_type": "code",
        "outputId": "838441d8-cfe9-4190-b43d-fa2de3cdc8d0",
        "colab": {
          "base_uri": "https://localhost:8080/",
          "height": 454
        }
      },
      "source": [
        "model.fit(train_images,train_labels,epochs=10,callbacks=[WandbCallback()])"
      ],
      "execution_count": 23,
      "outputs": [
        {
          "output_type": "stream",
          "text": [
            "Train on 60000 samples\n",
            "Epoch 1/10\n",
            "WARNING:tensorflow:Method (on_train_batch_end) is slow compared to the batch update (0.288113). Check your callbacks.\n",
            "   32/60000 [..............................] - ETA: 15:38 - loss: 2.3333 - accuracy: 0.1250WARNING:tensorflow:Method (on_train_batch_end) is slow compared to the batch update (0.144086). Check your callbacks.\n",
            "60000/60000 [==============================] - 17s 277us/sample - loss: 0.5440 - accuracy: 0.8642\n",
            "Epoch 2/10\n",
            "60000/60000 [==============================] - 16s 266us/sample - loss: 0.2647 - accuracy: 0.9250\n",
            "Epoch 3/10\n",
            "60000/60000 [==============================] - 16s 261us/sample - loss: 0.2128 - accuracy: 0.9399\n",
            "Epoch 4/10\n",
            "60000/60000 [==============================] - 16s 266us/sample - loss: 0.1781 - accuracy: 0.9504\n",
            "Epoch 5/10\n",
            "60000/60000 [==============================] - 16s 265us/sample - loss: 0.1532 - accuracy: 0.9568\n",
            "Epoch 6/10\n",
            "60000/60000 [==============================] - 16s 273us/sample - loss: 0.1339 - accuracy: 0.9621\n",
            "Epoch 7/10\n",
            "60000/60000 [==============================] - 16s 271us/sample - loss: 0.1184 - accuracy: 0.9669\n",
            "Epoch 8/10\n",
            "60000/60000 [==============================] - 16s 262us/sample - loss: 0.1061 - accuracy: 0.9703\n",
            "Epoch 9/10\n",
            "60000/60000 [==============================] - 16s 266us/sample - loss: 0.0955 - accuracy: 0.9735\n",
            "Epoch 10/10\n",
            "60000/60000 [==============================] - 16s 266us/sample - loss: 0.0873 - accuracy: 0.9756\n"
          ],
          "name": "stdout"
        },
        {
          "output_type": "execute_result",
          "data": {
            "text/plain": [
              "<tensorflow.python.keras.callbacks.History at 0x7fe1e4392470>"
            ]
          },
          "metadata": {
            "tags": []
          },
          "execution_count": 23
        }
      ]
    },
    {
      "cell_type": "code",
      "metadata": {
        "id": "UnKEJY00RyM1",
        "colab_type": "code",
        "outputId": "0a1e37c9-9ecf-4336-8145-03e728d1e9d8",
        "colab": {
          "base_uri": "https://localhost:8080/",
          "height": 52
        }
      },
      "source": [
        "model.evaluate(test_images,test_labels)"
      ],
      "execution_count": 24,
      "outputs": [
        {
          "output_type": "stream",
          "text": [
            "10000/10000 [==============================] - 1s 115us/sample - loss: 0.0957 - accuracy: 0.9707\n"
          ],
          "name": "stdout"
        },
        {
          "output_type": "execute_result",
          "data": {
            "text/plain": [
              "[0.09565380976907908, 0.9707]"
            ]
          },
          "metadata": {
            "tags": []
          },
          "execution_count": 24
        }
      ]
    }
  ]
}